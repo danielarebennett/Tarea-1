{
 "cells": [
  {
   "cell_type": "code",
   "execution_count": 172,
   "id": "183cdd8a-3cb5-4067-b29e-563b56e1375b",
   "metadata": {},
   "outputs": [],
   "source": [
    "import numpy as np \n",
    "import matplotlib.pyplot as plt\n",
    "from scipy.interpolate import interp1d\n",
    "import scipy.integrate as integrate"
   ]
  },
  {
   "cell_type": "code",
   "execution_count": 173,
   "id": "ab702dd1-b1bb-4f7a-ac4b-64993ac55746",
   "metadata": {},
   "outputs": [
    {
     "name": "stdout",
     "output_type": "stream",
     "text": [
      "9.24727110715081e-05\n"
     ]
    }
   ],
   "source": [
    "H_0=67\n",
    "om_r=4.1511*10**(-5)/(0.67)**2\n",
    "print(om_r)\n",
    "c=8*10**5"
   ]
  },
  {
   "cell_type": "code",
   "execution_count": 174,
   "id": "140f5a96-737e-418e-9124-74c24dcb6539",
   "metadata": {},
   "outputs": [],
   "source": [
    "def om_k(om_m,om_lamb):\n",
    "    result= 1-om_m-om_lamb-om_r\n",
    "    return result\n",
    "def E(om_m,om_lamb,x):\n",
    "    result=np.sqrt(om_m*(1+x)**3+om_lamb+om_r*(1+x)**3+om_k(om_m,om_lamb)*(1+x)**2)\n",
    "    return result\n",
    "def integral(om_m,om_lamb,z): \n",
    "    result=integrate.quad(lambda x: 1/E(om_m,om_lamb,x), 0, z)\n",
    "    return result[0]"
   ]
  },
  {
   "cell_type": "code",
   "execution_count": 175,
   "id": "af3a553c-c248-4626-b0d0-1feec87542da",
   "metadata": {},
   "outputs": [],
   "source": [
    "def f1(om_m,om_lamb,z):\n",
    "    result=c/(H_0*np.sqrt(om_k(om_m,om_lamb)))*np.sinh(np.sqrt(om_k(om_m,om_lamb))*integral(om_m,om_lamb,z))\n",
    "    return result\n",
    "def f2(om_m,om_lamb,z):\n",
    "    result=c/H_0*integral(om_m,om_lamb,z)\n",
    "    return result\n",
    "def f3(om_m,om_lamb,z):\n",
    "    result=c/(H_0*np.sqrt(-om_k(om_m,om_lamb)))*np.sin(np.sqrt(-om_k(om_m,om_lamb))*integral(om_m,om_lamb,z))\n",
    "    return result"
   ]
  },
  {
   "cell_type": "code",
   "execution_count": 176,
   "id": "45cc6c8a-19e7-45aa-bbcf-0519bca864f4",
   "metadata": {},
   "outputs": [],
   "source": [
    "z=1000"
   ]
  },
  {
   "cell_type": "code",
   "execution_count": 188,
   "id": "b7b178a6-a2e9-42e6-936c-da225c2d9a5c",
   "metadata": {},
   "outputs": [],
   "source": [
    "N=5\n",
    "x_m=np.linspace(0,1,N)\n",
    "y_lamb=np.linspace(0,1,N)\n",
    "X_m,Y_lambda=np.meshgrid(x_m,y_lamb)\n",
    "result_array=np.zeros((N,N))"
   ]
  },
  {
   "cell_type": "code",
   "execution_count": 178,
   "id": "b3f363bd-40f3-4469-8d60-8eda8ece1a7e",
   "metadata": {},
   "outputs": [
    {
     "name": "stdout",
     "output_type": "stream",
     "text": [
      "[[5715060.39797339 1984325.34313101 1273202.66242476 ...   23347.42799625\n",
      "    23235.04776364   23123.76552968]\n",
      " [5721010.98367943 1980901.75733999 1270353.93328912 ...   23285.49003386\n",
      "    23173.45768787   23062.51980434]\n",
      " [5726982.85558805 1977455.42235133 1267491.16199618 ...   23223.49735315\n",
      "    23111.81335031   23001.22026798]\n",
      " ...\n",
      " [2646728.00547739  197355.87817845  135238.90926494 ...    9978.63128682\n",
      "     9945.02988616    9911.69491343]\n",
      " [1802601.46775015  171481.13382461  122425.80110011 ...    9904.31918382\n",
      "     9871.17678197    9838.29577746]\n",
      " [ 624234.32960599  145152.74192381  109467.42198108 ...    9829.93995032\n",
      "     9797.2571776     9764.83076281]]\n"
     ]
    }
   ],
   "source": [
    "for i in range(N):\n",
    "    for j in range(N):\n",
    "        om=X_m[i][j]\n",
    "        ol=Y_lambda[i][j]\n",
    "        if om_k(om,ol)>0:\n",
    "            result_array[i][j]=f1(om,ol,z)\n",
    "        if om_k(om,ol)==0:\n",
    "            result_array[i][j]=f2(om,ol,z)\n",
    "        if om_k(om,ol)<0:\n",
    "            result_array[i][j]=f3(om,ol,z)\n",
    "print(result_array)"
   ]
  },
  {
   "cell_type": "code",
   "execution_count": 183,
   "id": "374a16f2-1902-4682-8991-455020ada324",
   "metadata": {},
   "outputs": [
    {
     "data": {
      "text/plain": [
       "Text(0, 0.5, '$\\\\Omega_{\\\\Lambda}$')"
      ]
     },
     "execution_count": 183,
     "metadata": {},
     "output_type": "execute_result"
    },
    {
     "data": {
      "image/png": "[encoded data removed]",
      "text/plain": [
       "<Figure size 640x480 with 2 Axes>"
      ]
     },
     "metadata": {},
     "output_type": "display_data"
    }
   ],
   "source": [
    "plt.contourf(x_m,y_lamb,np.log10(result_array))\n",
    "plt.colorbar()\n",
    "plt.xlabel('$\\Omega_m$')\n",
    "plt.ylabel('$\\Omega_{\\Lambda}$')"
   ]
  },
  {
   "cell_type": "code",
   "execution_count": null,
   "id": "a204cc82-610f-457c-9063-d13860117f11",
   "metadata": {},
   "outputs": [],
   "source": []
  }
 ],
 "metadata": {
  "kernelspec": {
   "display_name": "Python [conda env:base] *",
   "language": "python",
   "name": "conda-base-py"
  },
  "language_info": {
   "codemirror_mode": {
    "name": "ipython",
    "version": 3
   },
   "file_extension": ".py",
   "mimetype": "text/x-python",
   "name": "python",
   "nbconvert_exporter": "python",
   "pygments_lexer": "ipython3",
   "version": "3.11.5"
  }
 },
 "nbformat": 4,
 "nbformat_minor": 5
}
